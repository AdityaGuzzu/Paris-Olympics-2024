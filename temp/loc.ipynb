{
 "cells": [
  {
   "cell_type": "markdown",
   "metadata": {},
   "source": [
    "<b><h2>Importing Packages</b></h2>"
   ]
  },
  {
   "cell_type": "code",
   "execution_count": 3,
   "metadata": {},
   "outputs": [],
   "source": [
    "import pandas as pd\n",
    "import numpy as np"
   ]
  },
  {
   "cell_type": "markdown",
   "metadata": {},
   "source": [
    "<b><h2>Creating a Dataframe </h2><b>\n",
    "<ol>\n",
    "<li>Create a dictionary\n",
    "<li>Convert it into a df\n",
    "</ol>"
   ]
  },
  {
   "cell_type": "code",
   "execution_count": 19,
   "metadata": {},
   "outputs": [],
   "source": [
    "data_dict = {\n",
    "    'Names':['Aditya', 'Vamsi', 'Nithin', 'Varshith', 'Sidharth', 'Lohit', 'Sai'],\n",
    "    'YoB': [2003, 2003, 2004, 2003, 2004, 2004, 2003],\n",
    "    'fav_actor': [None,'Bob','bhAAi','PK',None,'bhAAi','PraBOSS'],\n",
    "    'College': ['Bhavans', 'IITH', 'Sreenidhi', None,'Bhavans','IITKGP','Anurag'],\n",
    "    'Has_Glasses': [True,False,False,False,True,False,False]\n",
    "}\n",
    "\n",
    "data_df = pd.DataFrame(data_dict)"
   ]
  },
  {
   "cell_type": "code",
   "execution_count": 5,
   "metadata": {},
   "outputs": [
    {
     "data": {
      "text/html": [
       "<div>\n",
       "<style scoped>\n",
       "    .dataframe tbody tr th:only-of-type {\n",
       "        vertical-align: middle;\n",
       "    }\n",
       "\n",
       "    .dataframe tbody tr th {\n",
       "        vertical-align: top;\n",
       "    }\n",
       "\n",
       "    .dataframe thead th {\n",
       "        text-align: right;\n",
       "    }\n",
       "</style>\n",
       "<table border=\"1\" class=\"dataframe\">\n",
       "  <thead>\n",
       "    <tr style=\"text-align: right;\">\n",
       "      <th></th>\n",
       "      <th>Names</th>\n",
       "      <th>YoB</th>\n",
       "      <th>fav_actor</th>\n",
       "      <th>College</th>\n",
       "      <th>Has_Glasses</th>\n",
       "    </tr>\n",
       "  </thead>\n",
       "  <tbody>\n",
       "    <tr>\n",
       "      <th>0</th>\n",
       "      <td>Aditya</td>\n",
       "      <td>2003</td>\n",
       "      <td>None</td>\n",
       "      <td>Bhavans</td>\n",
       "      <td>True</td>\n",
       "    </tr>\n",
       "    <tr>\n",
       "      <th>1</th>\n",
       "      <td>Vamsi</td>\n",
       "      <td>2003</td>\n",
       "      <td>Bob</td>\n",
       "      <td>IITH</td>\n",
       "      <td>False</td>\n",
       "    </tr>\n",
       "    <tr>\n",
       "      <th>2</th>\n",
       "      <td>Nithin</td>\n",
       "      <td>2004</td>\n",
       "      <td>bhAAi</td>\n",
       "      <td>Sreenidhi</td>\n",
       "      <td>False</td>\n",
       "    </tr>\n",
       "    <tr>\n",
       "      <th>3</th>\n",
       "      <td>Varshith</td>\n",
       "      <td>2003</td>\n",
       "      <td>PK</td>\n",
       "      <td>None</td>\n",
       "      <td>False</td>\n",
       "    </tr>\n",
       "    <tr>\n",
       "      <th>4</th>\n",
       "      <td>Sidharth</td>\n",
       "      <td>2004</td>\n",
       "      <td>None</td>\n",
       "      <td>Bhavans</td>\n",
       "      <td>True</td>\n",
       "    </tr>\n",
       "    <tr>\n",
       "      <th>5</th>\n",
       "      <td>Lohit</td>\n",
       "      <td>2004</td>\n",
       "      <td>bhAAi</td>\n",
       "      <td>IITKGP</td>\n",
       "      <td>False</td>\n",
       "    </tr>\n",
       "    <tr>\n",
       "      <th>6</th>\n",
       "      <td>Sai</td>\n",
       "      <td>2003</td>\n",
       "      <td>PraBOSS</td>\n",
       "      <td>Anurag</td>\n",
       "      <td>False</td>\n",
       "    </tr>\n",
       "  </tbody>\n",
       "</table>\n",
       "</div>"
      ],
      "text/plain": [
       "      Names   YoB fav_actor    College  Has_Glasses\n",
       "0    Aditya  2003      None    Bhavans         True\n",
       "1     Vamsi  2003       Bob       IITH        False\n",
       "2    Nithin  2004     bhAAi  Sreenidhi        False\n",
       "3  Varshith  2003        PK       None        False\n",
       "4  Sidharth  2004      None    Bhavans         True\n",
       "5     Lohit  2004     bhAAi     IITKGP        False\n",
       "6       Sai  2003   PraBOSS     Anurag        False"
      ]
     },
     "execution_count": 5,
     "metadata": {},
     "output_type": "execute_result"
    }
   ],
   "source": [
    "data_df"
   ]
  },
  {
   "cell_type": "markdown",
   "metadata": {},
   "source": [
    "<h3><b>Selecting Row(s) </b></h3>"
   ]
  },
  {
   "cell_type": "code",
   "execution_count": 6,
   "metadata": {},
   "outputs": [
    {
     "data": {
      "text/plain": [
       "Names          Vamsi\n",
       "YoB             2003\n",
       "fav_actor        Bob\n",
       "College         IITH\n",
       "Has_Glasses    False\n",
       "Name: 1, dtype: object"
      ]
     },
     "execution_count": 6,
     "metadata": {},
     "output_type": "execute_result"
    }
   ],
   "source": [
    "data_df.loc[1]"
   ]
  },
  {
   "cell_type": "code",
   "execution_count": 7,
   "metadata": {},
   "outputs": [
    {
     "data": {
      "text/html": [
       "<div>\n",
       "<style scoped>\n",
       "    .dataframe tbody tr th:only-of-type {\n",
       "        vertical-align: middle;\n",
       "    }\n",
       "\n",
       "    .dataframe tbody tr th {\n",
       "        vertical-align: top;\n",
       "    }\n",
       "\n",
       "    .dataframe thead th {\n",
       "        text-align: right;\n",
       "    }\n",
       "</style>\n",
       "<table border=\"1\" class=\"dataframe\">\n",
       "  <thead>\n",
       "    <tr style=\"text-align: right;\">\n",
       "      <th></th>\n",
       "      <th>Names</th>\n",
       "      <th>YoB</th>\n",
       "      <th>fav_actor</th>\n",
       "      <th>College</th>\n",
       "      <th>Has_Glasses</th>\n",
       "    </tr>\n",
       "  </thead>\n",
       "  <tbody>\n",
       "    <tr>\n",
       "      <th>1</th>\n",
       "      <td>Vamsi</td>\n",
       "      <td>2003</td>\n",
       "      <td>Bob</td>\n",
       "      <td>IITH</td>\n",
       "      <td>False</td>\n",
       "    </tr>\n",
       "    <tr>\n",
       "      <th>2</th>\n",
       "      <td>Nithin</td>\n",
       "      <td>2004</td>\n",
       "      <td>bhAAi</td>\n",
       "      <td>Sreenidhi</td>\n",
       "      <td>False</td>\n",
       "    </tr>\n",
       "    <tr>\n",
       "      <th>3</th>\n",
       "      <td>Varshith</td>\n",
       "      <td>2003</td>\n",
       "      <td>PK</td>\n",
       "      <td>None</td>\n",
       "      <td>False</td>\n",
       "    </tr>\n",
       "  </tbody>\n",
       "</table>\n",
       "</div>"
      ],
      "text/plain": [
       "      Names   YoB fav_actor    College  Has_Glasses\n",
       "1     Vamsi  2003       Bob       IITH        False\n",
       "2    Nithin  2004     bhAAi  Sreenidhi        False\n",
       "3  Varshith  2003        PK       None        False"
      ]
     },
     "execution_count": 7,
     "metadata": {},
     "output_type": "execute_result"
    }
   ],
   "source": [
    "data_df.loc[1:3]"
   ]
  },
  {
   "cell_type": "markdown",
   "metadata": {},
   "source": [
    "<h3><b>Setting the Value of a row</h3></b>"
   ]
  },
  {
   "cell_type": "code",
   "execution_count": 18,
   "metadata": {},
   "outputs": [
    {
     "data": {
      "text/html": [
       "<div>\n",
       "<style scoped>\n",
       "    .dataframe tbody tr th:only-of-type {\n",
       "        vertical-align: middle;\n",
       "    }\n",
       "\n",
       "    .dataframe tbody tr th {\n",
       "        vertical-align: top;\n",
       "    }\n",
       "\n",
       "    .dataframe thead th {\n",
       "        text-align: right;\n",
       "    }\n",
       "</style>\n",
       "<table border=\"1\" class=\"dataframe\">\n",
       "  <thead>\n",
       "    <tr style=\"text-align: right;\">\n",
       "      <th></th>\n",
       "      <th>Names</th>\n",
       "      <th>YoB</th>\n",
       "      <th>fav_actor</th>\n",
       "      <th>College</th>\n",
       "      <th>Has_Glasses</th>\n",
       "    </tr>\n",
       "  </thead>\n",
       "  <tbody>\n",
       "    <tr>\n",
       "      <th>0</th>\n",
       "      <td>Replaced</td>\n",
       "      <td>Replaced</td>\n",
       "      <td>Replaced</td>\n",
       "      <td>Replaced</td>\n",
       "      <td>Replaced</td>\n",
       "    </tr>\n",
       "    <tr>\n",
       "      <th>1</th>\n",
       "      <td>Vamsi</td>\n",
       "      <td>2003</td>\n",
       "      <td>Bob</td>\n",
       "      <td>IITH</td>\n",
       "      <td>False</td>\n",
       "    </tr>\n",
       "    <tr>\n",
       "      <th>2</th>\n",
       "      <td>Nithin</td>\n",
       "      <td>2004</td>\n",
       "      <td>bhAAi</td>\n",
       "      <td>Sreenidhi</td>\n",
       "      <td>False</td>\n",
       "    </tr>\n",
       "    <tr>\n",
       "      <th>3</th>\n",
       "      <td>Varshith</td>\n",
       "      <td>2003</td>\n",
       "      <td>PK</td>\n",
       "      <td>Geethanjali</td>\n",
       "      <td>False</td>\n",
       "    </tr>\n",
       "    <tr>\n",
       "      <th>4</th>\n",
       "      <td>Sidharth</td>\n",
       "      <td>2004</td>\n",
       "      <td>None</td>\n",
       "      <td>Bhavans</td>\n",
       "      <td>True</td>\n",
       "    </tr>\n",
       "    <tr>\n",
       "      <th>5</th>\n",
       "      <td>Lohit</td>\n",
       "      <td>2004</td>\n",
       "      <td>bhAAi</td>\n",
       "      <td>IITKGP</td>\n",
       "      <td>False</td>\n",
       "    </tr>\n",
       "    <tr>\n",
       "      <th>6</th>\n",
       "      <td>Sai</td>\n",
       "      <td>2003</td>\n",
       "      <td>PraBOSS</td>\n",
       "      <td>Anurag</td>\n",
       "      <td>False</td>\n",
       "    </tr>\n",
       "  </tbody>\n",
       "</table>\n",
       "</div>"
      ],
      "text/plain": [
       "      Names       YoB fav_actor      College Has_Glasses\n",
       "0  Replaced  Replaced  Replaced     Replaced    Replaced\n",
       "1     Vamsi      2003       Bob         IITH       False\n",
       "2    Nithin      2004     bhAAi    Sreenidhi       False\n",
       "3  Varshith      2003        PK  Geethanjali       False\n",
       "4  Sidharth      2004      None      Bhavans        True\n",
       "5     Lohit      2004     bhAAi       IITKGP       False\n",
       "6       Sai      2003   PraBOSS       Anurag       False"
      ]
     },
     "execution_count": 18,
     "metadata": {},
     "output_type": "execute_result"
    }
   ],
   "source": [
    "data_df.loc[0] = \"Replaced\"\n",
    "data_df"
   ]
  },
  {
   "cell_type": "markdown",
   "metadata": {},
   "source": [
    "<b color=\"red\">NOTE:</b> <br> Run the second cell again to restore the dataframe"
   ]
  },
  {
   "cell_type": "markdown",
   "metadata": {},
   "source": [
    "<h3><b>Selecting Rows based on a Condition</h3></b>"
   ]
  },
  {
   "cell_type": "code",
   "execution_count": 8,
   "metadata": {},
   "outputs": [
    {
     "data": {
      "text/html": [
       "<div>\n",
       "<style scoped>\n",
       "    .dataframe tbody tr th:only-of-type {\n",
       "        vertical-align: middle;\n",
       "    }\n",
       "\n",
       "    .dataframe tbody tr th {\n",
       "        vertical-align: top;\n",
       "    }\n",
       "\n",
       "    .dataframe thead th {\n",
       "        text-align: right;\n",
       "    }\n",
       "</style>\n",
       "<table border=\"1\" class=\"dataframe\">\n",
       "  <thead>\n",
       "    <tr style=\"text-align: right;\">\n",
       "      <th></th>\n",
       "      <th>Names</th>\n",
       "      <th>YoB</th>\n",
       "      <th>fav_actor</th>\n",
       "      <th>College</th>\n",
       "      <th>Has_Glasses</th>\n",
       "    </tr>\n",
       "  </thead>\n",
       "  <tbody>\n",
       "    <tr>\n",
       "      <th>2</th>\n",
       "      <td>Nithin</td>\n",
       "      <td>2004</td>\n",
       "      <td>bhAAi</td>\n",
       "      <td>Sreenidhi</td>\n",
       "      <td>False</td>\n",
       "    </tr>\n",
       "    <tr>\n",
       "      <th>5</th>\n",
       "      <td>Lohit</td>\n",
       "      <td>2004</td>\n",
       "      <td>bhAAi</td>\n",
       "      <td>IITKGP</td>\n",
       "      <td>False</td>\n",
       "    </tr>\n",
       "  </tbody>\n",
       "</table>\n",
       "</div>"
      ],
      "text/plain": [
       "    Names   YoB fav_actor    College  Has_Glasses\n",
       "2  Nithin  2004     bhAAi  Sreenidhi        False\n",
       "5   Lohit  2004     bhAAi     IITKGP        False"
      ]
     },
     "execution_count": 8,
     "metadata": {},
     "output_type": "execute_result"
    }
   ],
   "source": [
    "data_df.loc[data_df['fav_actor'] == 'bhAAi']"
   ]
  },
  {
   "cell_type": "markdown",
   "metadata": {},
   "source": [
    "<h3><b> Selecting Rows and specific Columns </h3></b>"
   ]
  },
  {
   "cell_type": "code",
   "execution_count": 9,
   "metadata": {},
   "outputs": [
    {
     "data": {
      "text/plain": [
       "2    Nithin\n",
       "5     Lohit\n",
       "Name: Names, dtype: object"
      ]
     },
     "execution_count": 9,
     "metadata": {},
     "output_type": "execute_result"
    }
   ],
   "source": [
    "data_df.loc[data_df['fav_actor']=='bhAAi','Names']"
   ]
  },
  {
   "cell_type": "markdown",
   "metadata": {},
   "source": [
    "<h3><b>Updating and Setting the values of particular rows </b></h3>"
   ]
  },
  {
   "cell_type": "code",
   "execution_count": 15,
   "metadata": {},
   "outputs": [],
   "source": [
    "data_df.loc[data_df['College'].isnull(),'College'] = 'Geethanjali'"
   ]
  },
  {
   "cell_type": "code",
   "execution_count": 16,
   "metadata": {},
   "outputs": [
    {
     "data": {
      "text/html": [
       "<div>\n",
       "<style scoped>\n",
       "    .dataframe tbody tr th:only-of-type {\n",
       "        vertical-align: middle;\n",
       "    }\n",
       "\n",
       "    .dataframe tbody tr th {\n",
       "        vertical-align: top;\n",
       "    }\n",
       "\n",
       "    .dataframe thead th {\n",
       "        text-align: right;\n",
       "    }\n",
       "</style>\n",
       "<table border=\"1\" class=\"dataframe\">\n",
       "  <thead>\n",
       "    <tr style=\"text-align: right;\">\n",
       "      <th></th>\n",
       "      <th>Names</th>\n",
       "      <th>YoB</th>\n",
       "      <th>fav_actor</th>\n",
       "      <th>College</th>\n",
       "      <th>Has_Glasses</th>\n",
       "    </tr>\n",
       "  </thead>\n",
       "  <tbody>\n",
       "    <tr>\n",
       "      <th>3</th>\n",
       "      <td>Varshith</td>\n",
       "      <td>2003</td>\n",
       "      <td>PK</td>\n",
       "      <td>Geethanjali</td>\n",
       "      <td>False</td>\n",
       "    </tr>\n",
       "  </tbody>\n",
       "</table>\n",
       "</div>"
      ],
      "text/plain": [
       "      Names   YoB fav_actor      College  Has_Glasses\n",
       "3  Varshith  2003        PK  Geethanjali        False"
      ]
     },
     "execution_count": 16,
     "metadata": {},
     "output_type": "execute_result"
    }
   ],
   "source": [
    "data_df.loc[data_df['College'] == 'Geethanjali']"
   ]
  },
  {
   "cell_type": "markdown",
   "metadata": {},
   "source": [
    "<h3><b>Selecting rows based on Multiple Conditions  </h3></b>"
   ]
  },
  {
   "cell_type": "code",
   "execution_count": 22,
   "metadata": {},
   "outputs": [
    {
     "data": {
      "text/plain": [
       "0    Aditya\n",
       "Name: Names, dtype: object"
      ]
     },
     "execution_count": 22,
     "metadata": {},
     "output_type": "execute_result"
    }
   ],
   "source": [
    "data_df.loc[((data_df['Has_Glasses']) & (data_df['YoB'] == 2003)),'Names']"
   ]
  }
 ],
 "metadata": {
  "kernelspec": {
   "display_name": "Python 3",
   "language": "python",
   "name": "python3"
  },
  "language_info": {
   "codemirror_mode": {
    "name": "ipython",
    "version": 3
   },
   "file_extension": ".py",
   "mimetype": "text/x-python",
   "name": "python",
   "nbconvert_exporter": "python",
   "pygments_lexer": "ipython3",
   "version": "3.11.1"
  }
 },
 "nbformat": 4,
 "nbformat_minor": 2
}
